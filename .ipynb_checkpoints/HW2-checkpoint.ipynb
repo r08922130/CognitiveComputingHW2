{
 "cells": [
  {
   "cell_type": "code",
   "execution_count": 23,
   "metadata": {},
   "outputs": [],
   "source": [
    "import skimage\n",
    "import cv2 \n",
    "import matplotlib.pyplot as plt\n",
    "import multiprocessing\n",
    "import os\n",
    "import numpy as np"
   ]
  },
  {
   "cell_type": "markdown",
   "metadata": {},
   "source": [
    "# Load Data"
   ]
  },
  {
   "cell_type": "code",
   "execution_count": 56,
   "metadata": {},
   "outputs": [
    {
     "data": {
      "text/plain": [
       "{0: 'skirt',\n",
       " 1: 'ice_cream',\n",
       " 2: 'cup',\n",
       " 3: 'gge_snack',\n",
       " 4: 'goggles',\n",
       " 5: 'drum',\n",
       " 6: 'minnie_shoes',\n",
       " 7: 'chair',\n",
       " 8: 'garment',\n",
       " 9: 'men_clothes',\n",
       " 10: 'korean_snack',\n",
       " 11: 'glasses',\n",
       " 12: 'children_dress',\n",
       " 13: 'trousers',\n",
       " 14: 'sprite',\n",
       " 15: 'cartoon_purse',\n",
       " 16: 'women_clothes',\n",
       " 17: 'tennis_ball',\n",
       " 18: 'nba_jersey',\n",
       " 19: 'minnie_dress',\n",
       " 20: 'bicycle',\n",
       " 21: 'hand_cream',\n",
       " 22: 'aloe_vera_gel',\n",
       " 23: 'bracelet',\n",
       " 24: 'leather_purse',\n",
       " 25: 'bottle',\n",
       " 26: 'baby_shoes',\n",
       " 27: 'clock',\n",
       " 28: 'orange',\n",
       " 29: 'overalls'}"
      ]
     },
     "execution_count": 56,
     "metadata": {},
     "output_type": "execute_result"
    }
   ],
   "source": [
    "data_dir = \"database\" \n",
    "class_list = os.listdir(data_dir)\n",
    "for dir_name in class_list:\n",
    "    if not dir_name[0].isalpha():\n",
    "        class_list.remove(dir_name)\n",
    "class_num = len(class_list)\n",
    "\n",
    "imgs =[]\n",
    "dict_class = {}\n",
    "for i, dir_name in enumerate(class_list):\n",
    "    img_arr = os.listdir(data_dir+\"/\"+dir_name)\n",
    "    dict_class[i] = dir_name \n",
    "    img_row = []\n",
    "    for img_name in img_arr:\n",
    "        if not img_name[0].isalpha():\n",
    "            continue\n",
    "        img_path = data_dir+\"/\"+dir_name+\"/\" + img_name\n",
    "        img = cv2.imread(img_path)\n",
    "        img = cv2.resize(img,(224,224))\n",
    "        #print(img.shape)\n",
    "        img_row += [img]\n",
    "    img_row = np.array(img_row)\n",
    "    #print(img_row.shape)\n",
    "    imgs += [img_row]\n",
    "\n",
    "dict_class\n",
    "        "
   ]
  },
  {
   "cell_type": "code",
   "execution_count": null,
   "metadata": {},
   "outputs": [],
   "source": [
    "all_hist = {}\n",
    "bin_num = 64\n",
    "grid = 8\n",
    "image_size = 224\n",
    "for c , class_imgs in enumerate(imgs):\n",
    "    for n, img in enumerate(class_imgs):\n",
    "        img = cv2.cvtColor(img, cv2.COLOR_BGR2HSV)\n",
    "        b, g, r = cv2.split(img)\n",
    "        b_hist = []\n",
    "        g_hist = []\n",
    "        r_hist = []\n",
    "        row = image_size/grid\n",
    "        col = image_size/grid\n",
    "        hist_arr = []\n",
    "        for i in range(row):\n",
    "            for j in range(col):\n",
    "                b_hist += [cv2.calcHist([b[i:i*row+row][j:j*col+col]],[0],None,[bin_num],[0,256])]\n",
    "                g_hist += [cv2.calcHist([g[i:i*row+row][j:j*col+col]],[0],None,[bin_num],[0,256])]\n",
    "                r_hist += [cv2.calcHist([r[i:i*row+row][j:j*col+col]],[0],None,[bin_num],[0,256])]\n",
    "        \n",
    "        "
   ]
  }
 ],
 "metadata": {
  "kernelspec": {
   "display_name": "Python 3",
   "language": "python",
   "name": "python3"
  },
  "language_info": {
   "codemirror_mode": {
    "name": "ipython",
    "version": 3
   },
   "file_extension": ".py",
   "mimetype": "text/x-python",
   "name": "python",
   "nbconvert_exporter": "python",
   "pygments_lexer": "ipython3",
   "version": "3.7.4"
  }
 },
 "nbformat": 4,
 "nbformat_minor": 2
}
