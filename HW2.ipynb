{
 "cells": [
  {
   "cell_type": "code",
   "execution_count": 133,
   "metadata": {},
   "outputs": [],
   "source": [
    "import skimage\n",
    "import cv2 \n",
    "import matplotlib.pyplot as plt\n",
    "import multiprocessing\n",
    "import os\n",
    "import numpy as np"
   ]
  },
  {
   "cell_type": "markdown",
   "metadata": {},
   "source": [
    "# Load Data"
   ]
  },
  {
   "cell_type": "code",
   "execution_count": 83,
   "metadata": {},
   "outputs": [
    {
     "name": "stdout",
     "output_type": "stream",
     "text": [
      "(20, 224, 224, 3)\n"
     ]
    }
   ],
   "source": [
    "data_dir = \"database\" \n",
    "class_list = os.listdir(data_dir)\n",
    "for dir_name in class_list:\n",
    "    if not dir_name[0].isalpha():\n",
    "        class_list.remove(dir_name)\n",
    "class_num = len(class_list)\n",
    "\n",
    "imgs =[]\n",
    "dict_class = {}\n",
    "for i, dir_name in enumerate(class_list):\n",
    "    img_arr = os.listdir(data_dir+\"/\"+dir_name)\n",
    "    dict_class[i] = dir_name \n",
    "    img_row = []\n",
    "    for img_name in img_arr:\n",
    "        if not img_name[0].isalpha():\n",
    "            continue\n",
    "        img_path = data_dir+\"/\"+dir_name+\"/\" + img_name\n",
    "        img = cv2.imread(img_path)\n",
    "        img = cv2.resize(img,(224,224))\n",
    "        #print(img.shape)\n",
    "        img_row += [img]\n",
    "    img_row = np.array(img_row)\n",
    "    #print(img_row.shape)\n",
    "    imgs += [img_row]\n",
    "\n",
    "print(imgs[0].shape)\n",
    "        "
   ]
  },
  {
   "cell_type": "markdown",
   "metadata": {},
   "source": [
    "# Color Histogram"
   ]
  },
  {
   "cell_type": "code",
   "execution_count": 117,
   "metadata": {},
   "outputs": [],
   "source": [
    "all_hist = {}\n",
    "bin_num = 64\n",
    "grid = 4\n",
    "image_size = 224\n",
    "for c , class_imgs in enumerate(imgs):\n",
    "    for n, img in enumerate(class_imgs):\n",
    "        \n",
    "        img = cv2.cvtColor(img, cv2.COLOR_BGR2HSV)\n",
    "        b, g, r = cv2.split(img)\n",
    "        b_hist = []\n",
    "        g_hist = []\n",
    "        r_hist = []\n",
    "        row = int(image_size/grid)\n",
    "        col = int(image_size/grid)\n",
    "        hist_arr = []\n",
    "        for i in range(grid):\n",
    "            for j in range(grid):\n",
    "                b_hist += [cv2.calcHist([b[i*row:i*row+row,j*col:j*col+col]],[0],None,[bin_num],[0,256]).flatten()]\n",
    "                g_hist += [cv2.calcHist([g[i*row:i*row+row,j*col:j*col+col]],[0],None,[bin_num],[0,256]).flatten()]\n",
    "                r_hist += [cv2.calcHist([r[i*row:i*row+row,j*col:j*col+col]],[0],None,[bin_num],[0,256]).flatten()]\n",
    "\n",
    "        all_hist[dict_class[c],n] = np.array([np.array(b_hist),np.array(g_hist), np.array(r_hist)])\n",
    "#dict[class_name, No. of image ] = hist \n",
    "#shape (3,784,64) 3 for b,g,r ,28*28 grid, 64 bins\n",
    " "
   ]
  },
  {
   "cell_type": "code",
   "execution_count": 104,
   "metadata": {},
   "outputs": [
    {
     "data": {
      "text/plain": [
       "array([  0.,   0.,   0., 233.,  38., 513.,   0.,   0.,   0.,   0.,   0.,\n",
       "         0.,   0.,   0.,   0.,   0.,   0.,   0.,   0.,   0.,   0.,   0.,\n",
       "         0.,   0.,   0.,   0.,   0.,   0.,   0.,   0.,   0.,   0.,   0.,\n",
       "         0.,   0.,   0.,   0.,   0.,   0.,   0.,   0.,   0.,   0.,   0.,\n",
       "         0.,   0.,   0.,   0.,   0.,   0.,   0.,   0.,   0.,   0.,   0.,\n",
       "         0.,   0.,   0.,   0.,   0.,   0.,   0.,   0.,   0.],\n",
       "      dtype=float32)"
      ]
     },
     "execution_count": 104,
     "metadata": {},
     "output_type": "execute_result"
    }
   ],
   "source": [
    "all_hist[dict_class[0],0][0][0]"
   ]
  },
  {
   "cell_type": "markdown",
   "metadata": {},
   "source": [
    "# L1 Similarity"
   ]
  },
  {
   "cell_type": "code",
   "execution_count": 167,
   "metadata": {},
   "outputs": [],
   "source": [
    "def similarity(hist1, hist2,dim=3):\n",
    "    s=0\n",
    "    # compute L1 \n",
    "    diffrence_hist = abs(hist1-hist2)\n",
    "    s = diffrence_hist\n",
    "    for i in range(dim):\n",
    "        s = sum(s)\n",
    "    #print(s)\n",
    "    return s\n",
    "\n",
    "    "
   ]
  },
  {
   "cell_type": "markdown",
   "metadata": {},
   "source": [
    "# MAP"
   ]
  },
  {
   "cell_type": "code",
   "execution_count": 125,
   "metadata": {},
   "outputs": [],
   "source": [
    "def m_ap(ap_dict,top):\n",
    "    class_map =0\n",
    "    class_map_arr ={}\n",
    "    all_map =0\n",
    "    now_c = dict_class[0]\n",
    "    for c ,ap in ap_dict.items():\n",
    "        if c[0] != now_c:\n",
    "            class_map_arr[now_c] = class_map/top\n",
    "            all_map += class_map\n",
    "            class_map = 0\n",
    "            now_c = c[0]\n",
    "        class_map += ap\n",
    "        \n",
    "    all_map/= 600\n",
    "    \n",
    "    return class_map_arr , all_map"
   ]
  },
  {
   "cell_type": "markdown",
   "metadata": {},
   "source": [
    "# Color Hist Score, Ranking, Get AP "
   ]
  },
  {
   "cell_type": "code",
   "execution_count": 118,
   "metadata": {},
   "outputs": [],
   "source": [
    "top = 19\n",
    "AP = {}\n",
    "for c, hist in all_hist.items():\n",
    "    target = c[0]\n",
    "    score ={}\n",
    "    \n",
    "    for c_t, hist_t in all_hist.items():\n",
    "        \n",
    "        if c == c_t :\n",
    "            continue\n",
    "        score[c_t] = similarity(hist, hist_t)\n",
    "    #ranking\n",
    "    scores = sorted(score.items(), key=lambda kv: kv[1])\n",
    "    #print(score)\n",
    "    #get top19\n",
    "    rank = 0\n",
    "    #print(target)\n",
    "    correct = 0.0\n",
    "    for t,score in scores:\n",
    "        #print(t[0])\n",
    "        if t[0] == target:\n",
    "            correct += 1.0\n",
    "        rank += 1\n",
    "        if rank == top:\n",
    "            break\n",
    "    AP[c] = correct/top\n",
    "    #print(c,AP[c])\n",
    "    #print(score)\n",
    "\n",
    "    "
   ]
  },
  {
   "cell_type": "markdown",
   "metadata": {},
   "source": [
    "# Compute MAP"
   ]
  },
  {
   "cell_type": "code",
   "execution_count": 119,
   "metadata": {},
   "outputs": [
    {
     "name": "stdout",
     "output_type": "stream",
     "text": [
      "Worst 2 Categories\n",
      "('nba_jersey', 0.03324099722991689) ('trousers', 0.05817174515235456)\n",
      "Best 2 Categories\n",
      "('goggles', 0.6260387811634347) ('minnie_dress', 0.6094182825484765)\n",
      "0.23719298245614037\n"
     ]
    }
   ],
   "source": [
    "class_map_arr , all_map = m_ap(AP,top)\n",
    "compare_map = sorted(class_map_arr.items(), key=lambda kv: kv[1])\n",
    "print(\"Worst 2 Categories\")\n",
    "print(compare_map[0],compare_map[1])\n",
    "print(\"Best 2 Categories\")\n",
    "print(compare_map[-1],compare_map[-2])\n",
    "\n",
    "print(all_map)"
   ]
  },
  {
   "cell_type": "markdown",
   "metadata": {},
   "source": [
    "### Save AP per image to a csv file in order to skipping the step of computing and comparing histogram next time"
   ]
  },
  {
   "cell_type": "code",
   "execution_count": 171,
   "metadata": {},
   "outputs": [],
   "source": [
    "import csv\n",
    "\n",
    "def write_csv(method=\"ColorHistogram\",bin_num=64, grid=4):\n",
    "    w = csv.writer(open(\"{}_APperImg_bin{}_gridsize{}.csv\".format(method,bin_num,grid), \"w\"))\n",
    "    for key, val in AP.items():\n",
    "        w.writerow([key, val])\n",
    "    w_map = csv.writer(open(\"{}_mAP_bin{}_gridsize{}.csv\".format(method,bin_num,grid),\"w\"))\n",
    "    \n",
    "    w_map.writerow([\"Worst 2 Categories\",compare_map[0][0],compare_map[0][1],compare_map[1][0],compare_map[1][1]])\n",
    "    w_map.writerow([\"Best 2 Categories\",compare_map[-1][0],compare_map[-1][1],compare_map[-2][0],compare_map[-2][1]])\n",
    "    w_map.writerow([\"map in all categories\",all_map])\n",
    "    \n"
   ]
  },
  {
   "cell_type": "markdown",
   "metadata": {},
   "source": [
    "### color histogram to csv"
   ]
  },
  {
   "cell_type": "code",
   "execution_count": 120,
   "metadata": {},
   "outputs": [],
   "source": [
    "write_csv(method=\"ColorHistogram\",bin_num=64, grid=4)"
   ]
  },
  {
   "cell_type": "code",
   "execution_count": null,
   "metadata": {},
   "outputs": [],
   "source": []
  },
  {
   "cell_type": "code",
   "execution_count": null,
   "metadata": {},
   "outputs": [],
   "source": []
  },
  {
   "cell_type": "markdown",
   "metadata": {},
   "source": [
    "# plot image and histogram"
   ]
  },
  {
   "cell_type": "code",
   "execution_count": 121,
   "metadata": {},
   "outputs": [
    {
     "name": "stdout",
     "output_type": "stream",
     "text": [
      "(3, 16, 64)\n",
      "0\n",
      "1\n",
      "2\n",
      "3\n",
      "4\n",
      "5\n",
      "6\n",
      "7\n",
      "8\n",
      "9\n",
      "10\n",
      "11\n",
      "12\n",
      "13\n",
      "14\n",
      "15\n"
     ]
    },
    {
     "data": {
      "text/plain": [
       "<Figure size 432x288 with 0 Axes>"
      ]
     },
     "metadata": {},
     "output_type": "display_data"
    },
    {
     "data": {
      "image/png": "[encoded data removed]",
      "text/plain": [
       "<Figure size 432x288 with 16 Axes>"
      ]
     },
     "metadata": {
      "needs_background": "light"
     },
     "output_type": "display_data"
    }
   ],
   "source": [
    "plt.figure()\n",
    "img_n = 0\n",
    "histr = all_hist[dict_class[0],img_n] # hist of first image in class 0 \n",
    "print(histr.shape)\n",
    "\n",
    "fig, axes = plt.subplots(grid,grid,sharex=True, sharey=True)\n",
    "color = ('b','g','r')\n",
    "for i in range(grid):\n",
    "    for j in range(grid):\n",
    "        #print(i*grid+j)\n",
    "        for c, col in enumerate(color):\n",
    "\n",
    "            axes[i,j].plot(histr[c][i*grid+j], color = col)\n",
    "            axes[i,j].set_xlim([0, bin_num])\n",
    "        \n",
    "\n",
    "        \n",
    "plt.savefig(\"class0_img{}_color_hist_bin{}_gridsize{}.jpg\".format(img_n,bin_num,grid),dpi=150)"
   ]
  },
  {
   "cell_type": "code",
   "execution_count": 122,
   "metadata": {},
   "outputs": [
    {
     "data": {
      "image/png": "[encoded data removed]",
      "text/plain": [
       "<Figure size 432x288 with 1 Axes>"
      ]
     },
     "metadata": {
      "needs_background": "light"
     },
     "output_type": "display_data"
    }
   ],
   "source": [
    "plt.imshow(imgs[0][img_n])\n",
    "plt.savefig(\"class0_img[0]\")"
   ]
  },
  {
   "cell_type": "raw",
   "metadata": {},
   "source": []
  },
  {
   "cell_type": "markdown",
   "metadata": {},
   "source": [
    "# Co-occurence Matrix "
   ]
  },
  {
   "cell_type": "code",
   "execution_count": 146,
   "metadata": {},
   "outputs": [],
   "source": [
    "def gray_level(pattern,pixel_range=16):\n",
    "    return np.floor(pattern/pixel_range)\n",
    "\n",
    "def co_occurence(input_pattern,pixel_range=16):\n",
    "    co_m_01 = np.zeros((pixel_range,pixel_range))\n",
    "    co_m_10 = np.zeros((pixel_range,pixel_range))\n",
    "    co_m_11 = np.zeros((pixel_range,pixel_range))\n",
    "    input_pattern = np.int_(gray_level(input_pattern,pixel_range))\n",
    "    # d = (0,1)\n",
    "    leng = input_pattern.shape[0]\n",
    "    for i in range(leng):\n",
    "        for j in range(leng-1):\n",
    "            co_m_01[input_pattern[i,j],input_pattern[i,j+1]] +=1\n",
    "    # d = (1,0)\n",
    "    for i in range(leng):\n",
    "        for j in range(leng-1):\n",
    "            co_m_10[input_pattern[j,i],input_pattern[j+1,i]] +=1\n",
    "    for i in range(leng-1):\n",
    "        for j in range(leng-1):\n",
    "            co_m_11[input_pattern[i,j],input_pattern[i+1,j+1]] +=1\n",
    "    return np.array([co_m_01, co_m_10, co_m_11])\n",
    "#co_occurence(np.array([[16,25],[26,244]]))"
   ]
  },
  {
   "cell_type": "code",
   "execution_count": 148,
   "metadata": {},
   "outputs": [
    {
     "data": {
      "text/plain": [
       "(64, 3, 16, 16)"
      ]
     },
     "execution_count": 148,
     "metadata": {},
     "output_type": "execute_result"
    }
   ],
   "source": [
    "all_occu = {}\n",
    "bin_num = 64\n",
    "grid = 4\n",
    "image_size = 224\n",
    "for c , class_imgs in enumerate(imgs):\n",
    "    for n, img in enumerate(class_imgs):\n",
    "        \n",
    "        img = cv2.cvtColor(img, cv2.COLOR_BGR2GRAY)\n",
    "        gray_hist = []\n",
    "        \n",
    "        grid_h = int(image_size/grid)\n",
    "        grid_w = int(image_size/grid)\n",
    "        hist_arr = []\n",
    "        for i in range(grid):\n",
    "            for j in range(grid):\n",
    "                gray_hist += [co_occurence(img[i*grid_h:i*grid_h+grid_h,j*grid_w:j*grid_w+grid_w])]\n",
    "\n",
    "        all_occu[dict_class[c],n] = np.array(np.array(gray_hist))\n",
    "all_occu[dict_class[0],0].shape"
   ]
  },
  {
   "cell_type": "code",
   "execution_count": 149,
   "metadata": {},
   "outputs": [],
   "source": [
    "#write_csv(method=\"Co_ocurence\")"
   ]
  },
  {
   "cell_type": "markdown",
   "metadata": {},
   "source": [
    "# Edge Histogram Descriptor"
   ]
  },
  {
   "cell_type": "code",
   "execution_count": 188,
   "metadata": {},
   "outputs": [],
   "source": [
    "verti = np.array([[1,-1],[1,-1]])\n",
    "hori = np.array([[1,1],[-1,-1]])\n",
    "deg45 = np.array([[2**0.5,0],[0,-(2**0.5)]])\n",
    "deg135 = np.array([[0,2**0.5],[-(2**0.5),0]])\n",
    "non_dir = np.array([[2,-2],[-2,2]])\n",
    "\n",
    "\n",
    "def EHD(input_pattern,block_size = 4,T_edge=0):\n",
    "    # 56*56 pattern\n",
    "    # 0 : \"vertical\", 1 : horizontal , 2 : 45 degree, 3: 135 degree , 4 : non-direction \n",
    "    \n",
    "    #split into 14*14 image block when block size = 4\n",
    "    \n",
    "    l = input_pattern.shape[0]\n",
    "    # split each block into 4 sub block\n",
    "    block_size /= 2\n",
    "    block_size = int(block_size)\n",
    "    block_l = int(l / block_size)\n",
    "    new_pattern = np.zeros((block_l, block_l))\n",
    "    for i in range(block_l):\n",
    "        for j in range(block_l):\n",
    "             \n",
    "            new_pattern[i][j] = np.average(input_pattern[i*block_size:(i+1)*block_size,j*block_size:(j+1)*block_size])\n",
    "    \n",
    "    hist = [0,0,0,0,0]\n",
    "    block_l /=2\n",
    "    block_l = int(block_l)\n",
    "    verti_p = np.zeros((block_l, block_l))\n",
    "    hori_p =np.zeros((block_l, block_l))\n",
    "    deg45_p =np.zeros((block_l, block_l))\n",
    "    deg135_p =np.zeros((block_l, block_l))\n",
    "    non_dir_p = np.zeros((block_l, block_l))\n",
    "    for i in range(0,block_l):\n",
    "        for j in range(0,block_l):\n",
    "            verti_p[i,j] = np.sum(np.multiply(new_pattern[2*i:2*i+2,2*j:2*j+2],verti))\n",
    "            hori_p[i,j] = np.sum(np.multiply(new_pattern[2*i:2*i+2,2*j:2*j+2],hori))\n",
    "            deg45_p[i,j] = np.sum(np.multiply(new_pattern[2*i:2*i+2,2*j:2*j+2],deg45))\n",
    "            deg135_p[i,j] = np.sum(np.multiply(new_pattern[2*i:2*i+2,2*j:2*j+2],deg135))\n",
    "            non_dir_p[i,j] = np.sum(np.multiply(new_pattern[2*i:2*i+2,2*j:2*j+2],non_dir))\n",
    "            \n",
    "    \"\"\"verti_p = cv2.filter2D(input_pattern,dst=-1,ddepth=-1, kernel=verti)\n",
    "    hori_p = cv2.filter2D(input_pattern,dst=-1,ddepth=-1, kernel=hori)\n",
    "    deg45_p = cv2.filter2D(input_pattern,dst=-1,ddepth=-1, kernel=deg45)\n",
    "    deg135_p = cv2.filter2D(input_pattern,dst=-1,ddepth=-1, kernel=deg135)\n",
    "    non_dir_p = cv2.filter2D(input_pattern,dst=-1,ddepth=-1, kernel=non_dir)\"\"\"\n",
    "    leng = verti_p.shape[0]\n",
    "    for i in range(leng):\n",
    "        for j in range(leng):\n",
    "            cmp_a = np.array([verti_p[i,j],hori_p[i,j],deg45_p[i,j],deg135_p[i,j],non_dir_p[i,j]])\n",
    "            index = np.argmax( cmp_a )\n",
    "            if cmp_a[index] > T_edge:\n",
    "                hist[index]+=1\n",
    "    return hist"
   ]
  },
  {
   "cell_type": "code",
   "execution_count": 213,
   "metadata": {},
   "outputs": [
    {
     "data": {
      "text/plain": [
       "(64, 5)"
      ]
     },
     "execution_count": 213,
     "metadata": {},
     "output_type": "execute_result"
    }
   ],
   "source": [
    "all_edge = {}\n",
    "#bin_num = 64\n",
    "grid = 8\n",
    "image_size = 224\n",
    "for c , class_imgs in enumerate(imgs):\n",
    "    for n, img in enumerate(class_imgs):\n",
    "        \n",
    "        img = cv2.cvtColor(img, cv2.COLOR_BGR2GRAY)\n",
    "        gray_hist = []\n",
    "        \n",
    "        grid_h = int(image_size/grid)\n",
    "        grid_w = int(image_size/grid)\n",
    "        hist_arr = []\n",
    "        for i in range(grid):\n",
    "            for j in range(grid):\n",
    "                gray_hist += [EHD(img[i*grid_h:i*grid_h+grid_h,j*grid_w:j*grid_w+grid_w],T_edge=40)]\n",
    "\n",
    "        all_edge[dict_class[c],n] = np.array(np.array(gray_hist))\n",
    "all_edge[dict_class[0],0].shape"
   ]
  },
  {
   "cell_type": "markdown",
   "metadata": {},
   "source": [
    "# EHD Score, Ranking, Get AP "
   ]
  },
  {
   "cell_type": "code",
   "execution_count": 214,
   "metadata": {},
   "outputs": [],
   "source": [
    "top = 19\n",
    "AP = {}\n",
    "for c, hist in all_edge.items():\n",
    "    target = c[0]\n",
    "    score ={}\n",
    "    \n",
    "    for c_t, hist_t in all_edge.items():\n",
    "        \n",
    "        if c == c_t :\n",
    "            continue\n",
    "        score[c_t] = similarity(hist, hist_t,dim=2)\n",
    "    #ranking\n",
    "    scores = sorted(score.items(), key=lambda kv: kv[1])\n",
    "    #print(score)\n",
    "    #get top19\n",
    "    rank = 0\n",
    "    #print(target)\n",
    "    correct = 0.0\n",
    "    for t,score in scores:\n",
    "        #print(t[0])\n",
    "        if t[0] == target:\n",
    "            correct += 1.0\n",
    "        rank += 1\n",
    "        if rank == top:\n",
    "            break\n",
    "    AP[c] = correct/top"
   ]
  },
  {
   "cell_type": "code",
   "execution_count": 215,
   "metadata": {},
   "outputs": [
    {
     "name": "stdout",
     "output_type": "stream",
     "text": [
      "Worst 2 Categories\n",
      "('hand_cream', 0.049861495844875335) ('bracelet', 0.0637119113573407)\n",
      "Best 2 Categories\n",
      "('goggles', 0.445983379501385) ('gge_snack', 0.335180055401662)\n",
      "0.14666666666666664\n"
     ]
    }
   ],
   "source": [
    "class_map_arr , all_map = m_ap(AP,top)\n",
    "compare_map = sorted(class_map_arr.items(), key=lambda kv: kv[1])\n",
    "print(\"Worst 2 Categories\")\n",
    "print(compare_map[0],compare_map[1])\n",
    "print(\"Best 2 Categories\")\n",
    "print(compare_map[-1],compare_map[-2])\n",
    "\n",
    "print(all_map)"
   ]
  },
  {
   "cell_type": "code",
   "execution_count": 216,
   "metadata": {},
   "outputs": [],
   "source": [
    "#threshold = 0\n",
    "write_csv(method=\"EHD\",bin_num=5, grid=grid)"
   ]
  },
  {
   "cell_type": "code",
   "execution_count": 217,
   "metadata": {},
   "outputs": [
    {
     "name": "stdout",
     "output_type": "stream",
     "text": [
      "(64, 5)\n",
      "[0 0 0 0 0]\n",
      "[0 1 0 0 0]\n",
      "[0 7 0 0 0]\n",
      "[1 6 1 0 1]\n",
      "[0 7 0 0 0]\n",
      "[0 7 0 0 0]\n",
      "[0 2 0 0 0]\n",
      "[0 0 0 0 0]\n",
      "[0 0 0 0 0]\n",
      "[2 3 2 1 2]\n",
      "[1 9 2 1 0]\n",
      "[ 0 17  3  0  1]\n",
      "[ 3 11  4  0  0]\n",
      "[2 6 2 2 3]\n",
      "[2 3 0 3 3]\n",
      "[0 0 0 0 0]\n",
      "[0 0 1 0 0]\n",
      "[6 1 4 3 3]\n",
      "[4 0 0 5 9]\n",
      "[2 0 3 1 5]\n",
      "[ 2  1  1  1 12]\n",
      "[4 2 1 4 3]\n",
      "[0 0 2 8 8]\n",
      "[0 0 0 0 0]\n",
      "[0 0 0 0 0]\n",
      "[6 2 4 1 8]\n",
      "[3 1 1 5 4]\n",
      "[3 5 0 1 5]\n",
      "[3 1 2 1 7]\n",
      "[1 1 2 2 9]\n",
      "[1 0 0 8 4]\n",
      "[0 0 0 0 0]\n",
      "[4 1 0 0 1]\n",
      "[4 5 1 2 3]\n",
      "[4 4 1 7 5]\n",
      "[8 3 0 1 8]\n",
      "[4 1 2 5 6]\n",
      "[3 1 1 2 6]\n",
      "[1 0 3 9 6]\n",
      "[0 0 0 0 0]\n",
      "[5 1 0 0 3]\n",
      "[ 7  0  1  3 12]\n",
      "[3 2 2 0 7]\n",
      "[4 1 1 1 7]\n",
      "[3 3 1 3 9]\n",
      "[3 1 1 4 8]\n",
      "[4 1 0 6 9]\n",
      "[0 0 0 1 1]\n",
      "[0 0 0 0 0]\n",
      "[1 0 0 0 1]\n",
      "[0 0 0 0 0]\n",
      "[0 0 0 0 0]\n",
      "[0 0 0 0 0]\n",
      "[0 0 0 0 0]\n",
      "[0 0 0 0 0]\n",
      "[0 0 0 0 0]\n",
      "[0 0 0 0 0]\n",
      "[0 0 0 0 0]\n",
      "[0 0 0 0 0]\n",
      "[0 0 0 0 0]\n",
      "[0 0 0 0 0]\n",
      "[0 0 0 0 0]\n",
      "[0 0 0 0 0]\n",
      "[0 0 0 0 0]\n"
     ]
    },
    {
     "data": {
      "text/plain": [
       "<Figure size 432x288 with 0 Axes>"
      ]
     },
     "metadata": {},
     "output_type": "display_data"
    },
    {
     "data": {
      "image/png": "[encoded data removed]",
      "text/plain": [
       "<Figure size 432x288 with 64 Axes>"
      ]
     },
     "metadata": {
      "needs_background": "light"
     },
     "output_type": "display_data"
    }
   ],
   "source": [
    "plt.figure()\n",
    "img_n = 0\n",
    "histr = all_edge[dict_class[0],img_n] # hist of first image in class 0 \n",
    "print(histr.shape)\n",
    "threshold = 40\n",
    "fig, axes = plt.subplots(grid,grid,sharex=True, sharey=True)\n",
    "color = ('b','g','r')\n",
    "for i in range(grid):\n",
    "    for j in range(grid):\n",
    "        #print(i*grid+j)\n",
    "        print(histr[i*grid+j])\n",
    "        axes[i,j].bar([1,2,3,4,5],histr[i*grid+j])\n",
    "        axes[i,j].set_xlim([0, 6])\n",
    "        \n",
    "\n",
    "        \n",
    "plt.savefig(\"class0_img{}_EHD_gridsize{}_threshold{}.jpg\".format(img_n,grid,threshold),dpi=150)"
   ]
  },
  {
   "cell_type": "markdown",
   "metadata": {},
   "source": [
    "# Local Feature"
   ]
  },
  {
   "cell_type": "code",
   "execution_count": null,
   "metadata": {},
   "outputs": [],
   "source": []
  }
 ],
 "metadata": {
  "kernelspec": {
   "display_name": "Python 3",
   "language": "python",
   "name": "python3"
  },
  "language_info": {
   "codemirror_mode": {
    "name": "ipython",
    "version": 3
   },
   "file_extension": ".py",
   "mimetype": "text/x-python",
   "name": "python",
   "nbconvert_exporter": "python",
   "pygments_lexer": "ipython3",
   "version": "3.7.4"
  }
 },
 "nbformat": 4,
 "nbformat_minor": 2
}
